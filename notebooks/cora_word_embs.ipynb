{
  "nbformat": 4,
  "nbformat_minor": 2,
  "metadata": {
    "colab": {
      "name": "cora4.ipynb",
      "provenance": [],
      "collapsed_sections": []
    },
    "kernelspec": {
      "name": "python3",
      "display_name": "Python 3"
    },
    "language_info": {
      "name": "python"
    }
  },
  "cells": [
    {
      "cell_type": "markdown",
      "source": [
        "# Introduction\n",
        "\n",
        "This notebook demonstrates the creation of a traditional ML model using the word embeddings provided in the CORA dataset.  It is not possible to optimize the actual embeddings since they were created by the source and the vocabulary is not provided.\n",
        "\n",
        "We will first establish our connection to the Sandbox DB, where the word vectors are called `features`.  We will pull the features and subjects in and, after some minor data type conversions, create a basic support vector classifier.  After k-folds validation, we will then evaluate the accuracy of this model.\n",
        "\n",
        "_It is necessary to have the database populated prior to running this notebook._\n",
        "\n",
        "## Note: This next line is required if you are running this notebook on Google Colab."
      ],
      "metadata": {}
    },
    {
      "cell_type": "code",
      "execution_count": 1,
      "source": [
        "!pip install neo4j"
      ],
      "outputs": [
        {
          "output_type": "stream",
          "name": "stdout",
          "text": [
            "Collecting neo4j\n",
            "  Downloading neo4j-4.3.7.tar.gz (76 kB)\n",
            "\u001b[?25l\r\u001b[K     |████▎                           | 10 kB 19.6 MB/s eta 0:00:01\r\u001b[K     |████████▋                       | 20 kB 19.3 MB/s eta 0:00:01\r\u001b[K     |█████████████                   | 30 kB 11.9 MB/s eta 0:00:01\r\u001b[K     |█████████████████▏              | 40 kB 10.2 MB/s eta 0:00:01\r\u001b[K     |█████████████████████▌          | 51 kB 5.3 MB/s eta 0:00:01\r\u001b[K     |█████████████████████████▉      | 61 kB 6.0 MB/s eta 0:00:01\r\u001b[K     |██████████████████████████████▏ | 71 kB 6.0 MB/s eta 0:00:01\r\u001b[K     |████████████████████████████████| 76 kB 1.9 MB/s \n",
            "\u001b[?25hRequirement already satisfied: pytz in /usr/local/lib/python3.7/dist-packages (from neo4j) (2018.9)\n",
            "Building wheels for collected packages: neo4j\n",
            "  Building wheel for neo4j (setup.py) ... \u001b[?25l\u001b[?25hdone\n",
            "  Created wheel for neo4j: filename=neo4j-4.3.7-py3-none-any.whl size=100642 sha256=540731ff1685c75f685e94927b4e099babc2dfdf97baa63e66db35f73b8da9e8\n",
            "  Stored in directory: /root/.cache/pip/wheels/b5/24/bb/cece9fcfdd5e1aa0683e2533945e1e3f27f70f342ff7e28993\n",
            "Successfully built neo4j\n",
            "Installing collected packages: neo4j\n",
            "Successfully installed neo4j-4.3.7\n"
          ]
        }
      ],
      "metadata": {
        "colab": {
          "base_uri": "https://localhost:8080/"
        },
        "id": "x7JlI_71Rag_",
        "outputId": "f3b741ed-477b-43e7-911f-8a2e0e1f8a0f"
      }
    },
    {
      "cell_type": "code",
      "execution_count": 2,
      "source": [
        "%matplotlib inline\n",
        "\n",
        "import ast\n",
        "import json\n",
        "import re\n",
        "import urllib\n",
        "from pprint import pprint\n",
        "import time\n",
        "from tqdm import tqdm\n",
        "\n",
        "from neo4j import GraphDatabase\n",
        "\n",
        "import numpy as np\n",
        "import pandas as pd\n",
        "\n",
        "from sklearn.metrics.pairwise import cosine_similarity\n",
        "from sklearn.manifold import TSNE\n",
        "from sklearn import svm\n",
        "from sklearn.metrics import accuracy_score\n",
        "from sklearn.model_selection import train_test_split\n",
        "from sklearn.metrics import plot_confusion_matrix\n",
        "\n",
        "import matplotlib.pyplot as plt\n",
        "from mpl_toolkits.mplot3d import Axes3D\n",
        "import seaborn as sns\n",
        "\n",
        "import pprint"
      ],
      "outputs": [],
      "metadata": {
        "id": "Pwq6jeDDReua"
      }
    },
    {
      "cell_type": "code",
      "execution_count": 3,
      "source": [
        "class Neo4jConnection:\n",
        "    \n",
        "    def __init__(self, uri, user, pwd):\n",
        "        self.__uri = uri\n",
        "        self.__user = user\n",
        "        self.__pwd = pwd\n",
        "        self.__driver = None\n",
        "        try:\n",
        "            self.__driver = GraphDatabase.driver(self.__uri, auth=(self.__user, self.__pwd))\n",
        "        except Exception as e:\n",
        "            print(\"Failed to create the driver:\", e)\n",
        "        \n",
        "    def close(self):\n",
        "        if self.__driver is not None:\n",
        "            self.__driver.close()\n",
        "        \n",
        "    def query(self, query, parameters=None, db=None):\n",
        "        assert self.__driver is not None, \"Driver not initialized!\"\n",
        "        session = None\n",
        "        response = None\n",
        "        try: \n",
        "            session = self.__driver.session(database=db) if db is not None else self.__driver.session() \n",
        "            response = list(session.run(query, parameters))\n",
        "        except Exception as e:\n",
        "            print(\"Query failed:\", e)\n",
        "        finally: \n",
        "            if session is not None:\n",
        "                session.close()\n",
        "        return response"
      ],
      "outputs": [],
      "metadata": {
        "id": "fNd8dIhvSSMO"
      }
    },
    {
      "cell_type": "code",
      "execution_count": 4,
      "source": [
        "uri = ''\n",
        "pwd = ''\n",
        "\n",
        "conn = Neo4jConnection(uri=uri, user=\"neo4j\", pwd=pwd)\n",
        "\n",
        "conn.query(\"MATCH (n) RETURN COUNT(n)\")"
      ],
      "outputs": [
        {
          "output_type": "execute_result",
          "data": {
            "text/plain": [
              "[<Record COUNT(n)=2708>]"
            ]
          },
          "metadata": {},
          "execution_count": 4
        }
      ],
      "metadata": {
        "colab": {
          "base_uri": "https://localhost:8080/"
        },
        "id": "jtpFGB2aSy0Y",
        "outputId": "6c9b9570-7ff3-4eff-9e22-58e135679042"
      }
    },
    {
      "cell_type": "code",
      "execution_count": 5,
      "source": [
        "def create_df():\n",
        "\n",
        "    query = \"\"\"MATCH (p:Paper) RETURN p.id AS id, p.subject AS subject, p.features AS features\"\"\"\n",
        "\n",
        "    df = pd.DataFrame([dict(_) for _ in conn.query(query)])\n",
        "    df['features'] = df['features'].apply(ast.literal_eval)\n",
        "    df['embeddings'] = df['features'].apply(lambda x: np.array(x, dtype=float))\n",
        "\n",
        "    return df\n",
        "\n",
        "\n",
        "def create_X_y(df):\n",
        "\n",
        "    X = np.array(df['embeddings'].to_list())\n",
        "    df['target'] = pd.factorize(df['subject'])[0].astype(\"float32\")\n",
        "    y = df['target'].to_numpy()\n",
        "\n",
        "    return X, y"
      ],
      "outputs": [],
      "metadata": {
        "id": "xkfyyTIjwBXW"
      }
    },
    {
      "cell_type": "code",
      "execution_count": 6,
      "source": [
        "def modeler(k_folds=5, model='linear', show_matrix=True):\n",
        "\n",
        "    acc_scores = []\n",
        "\n",
        "    df = create_df()\n",
        "    X, y = create_X_y(df)\n",
        "\n",
        "    for i in range(0, k_folds):\n",
        "        \n",
        "        X_train, X_test, y_train, y_test = train_test_split(X, y, test_size=0.25)\n",
        "        clf = svm.SVC(kernel='linear', class_weight='balanced')\n",
        "        clf.fit(X_train, y_train)\n",
        "        pred = clf.predict(X_test)\n",
        "\n",
        "        acc = accuracy_score(pred, y_test)\n",
        "        acc_scores.append(acc)        \n",
        "        \n",
        "    print('Accuracy scores: ', acc_scores)\n",
        "    print('Mean accuracy: ', np.mean(acc_scores))\n",
        "    \n",
        "    if show_matrix:\n",
        "        matrix = plot_confusion_matrix(clf, X_test, y_test, cmap=plt.cm.Blues, normalize='true')\n",
        "        plt.show(matrix)\n",
        "        plt.show()\n",
        "        \n",
        "    return"
      ],
      "outputs": [],
      "metadata": {
        "id": "Rd1_r7-3UOZE"
      }
    },
    {
      "cell_type": "code",
      "execution_count": 7,
      "source": [
        "modeler()"
      ],
      "outputs": [
        {
          "output_type": "stream",
          "name": "stdout",
          "text": [
            "Accuracy scores:  [0.7444608567208272, 0.7223042836041359, 0.740029542097489, 0.7001477104874446, 0.7385524372230429]\n",
            "Mean accuracy:  0.729098966026588\n"
          ]
        },
        {
          "output_type": "display_data",
          "data": {
            "image/png": "[encoded data removed]",
            "text/plain": [
              "<Figure size 432x288 with 2 Axes>"
            ]
          },
          "metadata": {
            "needs_background": "light"
          }
        }
      ],
      "metadata": {
        "colab": {
          "base_uri": "https://localhost:8080/",
          "height": 315
        },
        "id": "EIuXk4EzUjw5",
        "outputId": "38c324fa-8d55-4f64-8e01-a81efc36d96b"
      }
    },
    {
      "cell_type": "code",
      "execution_count": null,
      "source": [],
      "outputs": [],
      "metadata": {
        "id": "e8deqlKIVUZe"
      }
    }
  ]
}